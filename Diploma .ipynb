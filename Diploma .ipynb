{
 "cells": [
  {
   "cell_type": "code",
   "execution_count": 147,
   "metadata": {
    "scrolled": true
   },
   "outputs": [],
   "source": [
    "from biosppy.signals import ecg"
   ]
  },
  {
   "cell_type": "code",
   "execution_count": 156,
   "metadata": {},
   "outputs": [],
   "source": [
    "import numpy as np\n",
    "import csv"
   ]
  },
  {
   "cell_type": "code",
   "execution_count": 157,
   "metadata": {},
   "outputs": [],
   "source": [
    "# load raw ECG signal\n",
    "signal = np.loadtxt('C:\\\\Users\\\\123\\\\Desktop\\\\ecg.txt')"
   ]
  },
  {
   "cell_type": "code",
   "execution_count": 158,
   "metadata": {},
   "outputs": [],
   "source": [
    "rpeaks = ecg.engzee_segmenter(signal=signal, sampling_rate=1000.0, threshold=0.48)"
   ]
  },
  {
   "cell_type": "code",
   "execution_count": 159,
   "metadata": {},
   "outputs": [
    {
     "name": "stdout",
     "output_type": "stream",
     "text": [
      "[2044. 2044. 2044. ... 2044. 2045. 2043.]\n"
     ]
    }
   ],
   "source": [
    "print (signal)"
   ]
  },
  {
   "cell_type": "code",
   "execution_count": 160,
   "metadata": {},
   "outputs": [
    {
     "name": "stdout",
     "output_type": "stream",
     "text": [
      "ReturnTuple(rpeaks=array([  286,  1206,  2161,  6203,  8201,  9160, 10158, 11200, 12161,\n",
      "       13142, 14165]))\n"
     ]
    }
   ],
   "source": [
    "print (rpeaks)"
   ]
  },
  {
   "cell_type": "code",
   "execution_count": 162,
   "metadata": {
    "scrolled": false
   },
   "outputs": [
    {
     "ename": "TypeError",
     "evalue": "object of type 'numpy.bool_' has no len()",
     "output_type": "error",
     "traceback": [
      "\u001b[1;31m---------------------------------------------------------------------------\u001b[0m",
      "\u001b[1;31mTypeError\u001b[0m                                 Traceback (most recent call last)",
      "\u001b[1;32m<ipython-input-162-5313a4c2b89f>\u001b[0m in \u001b[0;36m<module>\u001b[1;34m\u001b[0m\n\u001b[1;32m----> 1\u001b[1;33m \u001b[0mecg\u001b[0m\u001b[1;33m.\u001b[0m\u001b[0mextract_heartbeats\u001b[0m\u001b[1;33m(\u001b[0m\u001b[0msignal\u001b[0m\u001b[1;33m=\u001b[0m\u001b[0msignal\u001b[0m\u001b[1;33m.\u001b[0m\u001b[0mall\u001b[0m\u001b[1;33m(\u001b[0m\u001b[1;33m)\u001b[0m\u001b[1;33m,\u001b[0m \u001b[0mrpeaks\u001b[0m\u001b[1;33m=\u001b[0m\u001b[0mrpeaks\u001b[0m\u001b[1;33m,\u001b[0m \u001b[0msampling_rate\u001b[0m\u001b[1;33m=\u001b[0m\u001b[1;36m1000.0\u001b[0m\u001b[1;33m,\u001b[0m \u001b[0mbefore\u001b[0m\u001b[1;33m=\u001b[0m\u001b[1;36m0.2\u001b[0m\u001b[1;33m,\u001b[0m \u001b[0mafter\u001b[0m\u001b[1;33m=\u001b[0m\u001b[1;36m0.4\u001b[0m\u001b[1;33m)\u001b[0m\u001b[1;33m\u001b[0m\u001b[1;33m\u001b[0m\u001b[0m\n\u001b[0m",
      "\u001b[1;32m~\\Anaconda3\\lib\\site-packages\\biosppy\\signals\\ecg.py\u001b[0m in \u001b[0;36mextract_heartbeats\u001b[1;34m(signal, rpeaks, sampling_rate, before, after)\u001b[0m\n\u001b[0;32m    220\u001b[0m                                           \u001b[0mrpeaks\u001b[0m\u001b[1;33m=\u001b[0m\u001b[0mrpeaks\u001b[0m\u001b[1;33m,\u001b[0m\u001b[1;33m\u001b[0m\u001b[1;33m\u001b[0m\u001b[0m\n\u001b[0;32m    221\u001b[0m                                           \u001b[0mbefore\u001b[0m\u001b[1;33m=\u001b[0m\u001b[0mbefore\u001b[0m\u001b[1;33m,\u001b[0m\u001b[1;33m\u001b[0m\u001b[1;33m\u001b[0m\u001b[0m\n\u001b[1;32m--> 222\u001b[1;33m                                           after=after)\n\u001b[0m\u001b[0;32m    223\u001b[0m \u001b[1;33m\u001b[0m\u001b[0m\n\u001b[0;32m    224\u001b[0m     \u001b[1;32mreturn\u001b[0m \u001b[0mutils\u001b[0m\u001b[1;33m.\u001b[0m\u001b[0mReturnTuple\u001b[0m\u001b[1;33m(\u001b[0m\u001b[1;33m(\u001b[0m\u001b[0mtemplates\u001b[0m\u001b[1;33m,\u001b[0m \u001b[0mnewR\u001b[0m\u001b[1;33m)\u001b[0m\u001b[1;33m,\u001b[0m \u001b[1;33m(\u001b[0m\u001b[1;34m'templates'\u001b[0m\u001b[1;33m,\u001b[0m \u001b[1;34m'rpeaks'\u001b[0m\u001b[1;33m)\u001b[0m\u001b[1;33m)\u001b[0m\u001b[1;33m\u001b[0m\u001b[1;33m\u001b[0m\u001b[0m\n",
      "\u001b[1;32m~\\Anaconda3\\lib\\site-packages\\biosppy\\signals\\ecg.py\u001b[0m in \u001b[0;36m_extract_heartbeats\u001b[1;34m(signal, rpeaks, before, after)\u001b[0m\n\u001b[0;32m    152\u001b[0m \u001b[1;33m\u001b[0m\u001b[0m\n\u001b[0;32m    153\u001b[0m     \u001b[0mR\u001b[0m \u001b[1;33m=\u001b[0m \u001b[0mnp\u001b[0m\u001b[1;33m.\u001b[0m\u001b[0msort\u001b[0m\u001b[1;33m(\u001b[0m\u001b[0mrpeaks\u001b[0m\u001b[1;33m)\u001b[0m\u001b[1;33m\u001b[0m\u001b[1;33m\u001b[0m\u001b[0m\n\u001b[1;32m--> 154\u001b[1;33m     \u001b[0mlength\u001b[0m \u001b[1;33m=\u001b[0m \u001b[0mlen\u001b[0m\u001b[1;33m(\u001b[0m\u001b[0msignal\u001b[0m\u001b[1;33m)\u001b[0m\u001b[1;33m\u001b[0m\u001b[1;33m\u001b[0m\u001b[0m\n\u001b[0m\u001b[0;32m    155\u001b[0m     \u001b[0mtemplates\u001b[0m \u001b[1;33m=\u001b[0m \u001b[1;33m[\u001b[0m\u001b[1;33m]\u001b[0m\u001b[1;33m\u001b[0m\u001b[1;33m\u001b[0m\u001b[0m\n\u001b[0;32m    156\u001b[0m     \u001b[0mnewR\u001b[0m \u001b[1;33m=\u001b[0m \u001b[1;33m[\u001b[0m\u001b[1;33m]\u001b[0m\u001b[1;33m\u001b[0m\u001b[1;33m\u001b[0m\u001b[0m\n",
      "\u001b[1;31mTypeError\u001b[0m: object of type 'numpy.bool_' has no len()"
     ]
    }
   ],
   "source": [
    "ecg.extract_heartbeats(signal=signal.all(), rpeaks=rpeaks, sampling_rate=1000.0, before=0.2, after=0.4)"
   ]
  },
  {
   "cell_type": "code",
   "execution_count": 163,
   "metadata": {},
   "outputs": [],
   "source": [
    "sampling_rate=1000.0\n",
    "before=0.2\n",
    "after=0.4"
   ]
  },
  {
   "cell_type": "code",
   "execution_count": 164,
   "metadata": {},
   "outputs": [],
   "source": [
    "# check inputs\n",
    "if signal is None:\n",
    "    raise TypeError(\"Please specify an input signal.\")\n",
    "\n",
    "if rpeaks is None:\n",
    "    raise TypeError(\"Please specify the input R-peak locations.\")\n",
    "\n",
    "if before < 0:\n",
    "    raise ValueError(\"Please specify a non-negative 'before' value.\")\n",
    "if after < 0:\n",
    "    raise ValueError(\"Please specify a non-negative 'after' value.\")"
   ]
  },
  {
   "cell_type": "code",
   "execution_count": 165,
   "metadata": {},
   "outputs": [],
   "source": [
    "# convert delimiters to samples\n",
    "before = int(before * sampling_rate)\n",
    "after = int(after * sampling_rate)"
   ]
  },
  {
   "cell_type": "code",
   "execution_count": 166,
   "metadata": {},
   "outputs": [
    {
     "ename": "ValueError",
     "evalue": "The truth value of an array with more than one element is ambiguous. Use a.any() or a.all()",
     "output_type": "error",
     "traceback": [
      "\u001b[1;31m---------------------------------------------------------------------------\u001b[0m",
      "\u001b[1;31mValueError\u001b[0m                                Traceback (most recent call last)",
      "\u001b[1;32m<ipython-input-166-86f92bef3745>\u001b[0m in \u001b[0;36m<module>\u001b[1;34m\u001b[0m\n\u001b[0;32m      6\u001b[0m \u001b[1;32mfor\u001b[0m \u001b[0mr\u001b[0m \u001b[1;32min\u001b[0m \u001b[0mR\u001b[0m\u001b[1;33m:\u001b[0m\u001b[1;33m\u001b[0m\u001b[1;33m\u001b[0m\u001b[0m\n\u001b[0;32m      7\u001b[0m     \u001b[0ma\u001b[0m \u001b[1;33m=\u001b[0m \u001b[0mr\u001b[0m \u001b[1;33m-\u001b[0m \u001b[0mbefore\u001b[0m\u001b[1;33m\u001b[0m\u001b[1;33m\u001b[0m\u001b[0m\n\u001b[1;32m----> 8\u001b[1;33m     \u001b[1;32mif\u001b[0m \u001b[0ma\u001b[0m \u001b[1;33m<\u001b[0m \u001b[1;36m0\u001b[0m\u001b[1;33m:\u001b[0m\u001b[1;33m\u001b[0m\u001b[1;33m\u001b[0m\u001b[0m\n\u001b[0m\u001b[0;32m      9\u001b[0m         \u001b[1;32mcontinue\u001b[0m\u001b[1;33m\u001b[0m\u001b[1;33m\u001b[0m\u001b[0m\n\u001b[0;32m     10\u001b[0m     \u001b[0mb\u001b[0m \u001b[1;33m=\u001b[0m \u001b[0mr\u001b[0m \u001b[1;33m+\u001b[0m \u001b[0mafter\u001b[0m\u001b[1;33m\u001b[0m\u001b[1;33m\u001b[0m\u001b[0m\n",
      "\u001b[1;31mValueError\u001b[0m: The truth value of an array with more than one element is ambiguous. Use a.any() or a.all()"
     ]
    }
   ],
   "source": [
    "R = np.sort(rpeaks)\n",
    "length = len(signal)\n",
    "templates = []\n",
    "    \n",
    "\n",
    "for r in R:\n",
    "    a = r - before\n",
    "    if a < 0:\n",
    "        continue\n",
    "    b = r + after\n",
    "    if b > length:\n",
    "        break\n",
    "    templates.append(signal[a:b])"
   ]
  },
  {
   "cell_type": "code",
   "execution_count": 167,
   "metadata": {},
   "outputs": [],
   "source": [
    "templates = np.array(templates)"
   ]
  },
  {
   "cell_type": "code",
   "execution_count": 168,
   "metadata": {},
   "outputs": [
    {
     "name": "stdout",
     "output_type": "stream",
     "text": [
      "[]\n"
     ]
    }
   ],
   "source": [
    "print (templates)"
   ]
  },
  {
   "cell_type": "code",
   "execution_count": 169,
   "metadata": {
    "scrolled": false
   },
   "outputs": [
    {
     "data": {
      "image/png": "[encoded data removed]",
      "text/plain": [
       "<Figure size 432x288 with 4 Axes>"
      ]
     },
     "metadata": {
      "needs_background": "light"
     },
     "output_type": "display_data"
    }
   ],
   "source": [
    "out=ecg.ecg(signal=signal, sampling_rate=361.0, show=True)"
   ]
  },
  {
   "cell_type": "code",
   "execution_count": 170,
   "metadata": {},
   "outputs": [
    {
     "data": {
      "text/plain": [
       "ReturnTuple(ts=array([0.00000000e+00, 2.76989843e-03, 5.53979686e-03, ...,\n",
       "       4.15401668e+01, 4.15429367e+01, 4.15457066e+01]), filtered=array([87.49584148, 86.11677033, 85.20430688, ..., 87.90264166,\n",
       "       87.45310579, 87.4530353 ]), rpeaks=array([  286,  1207,  2161,  3191,  4213,  5190,  6203,  7233,  8203,\n",
       "        9160, 10158, 11201, 12162, 13142, 14165]), templates_ts=array([-2.00000000e-01, -1.97222222e-01, -1.94444444e-01, -1.91666667e-01,\n",
       "       -1.88888889e-01, -1.86111111e-01, -1.83333333e-01, -1.80555556e-01,\n",
       "       -1.77777778e-01, -1.75000000e-01, -1.72222222e-01, -1.69444444e-01,\n",
       "       -1.66666667e-01, -1.63888889e-01, -1.61111111e-01, -1.58333333e-01,\n",
       "       -1.55555556e-01, -1.52777778e-01, -1.50000000e-01, -1.47222222e-01,\n",
       "       -1.44444444e-01, -1.41666667e-01, -1.38888889e-01, -1.36111111e-01,\n",
       "       -1.33333333e-01, -1.30555556e-01, -1.27777778e-01, -1.25000000e-01,\n",
       "       -1.22222222e-01, -1.19444444e-01, -1.16666667e-01, -1.13888889e-01,\n",
       "       -1.11111111e-01, -1.08333333e-01, -1.05555556e-01, -1.02777778e-01,\n",
       "       -1.00000000e-01, -9.72222222e-02, -9.44444444e-02, -9.16666667e-02,\n",
       "       -8.88888889e-02, -8.61111111e-02, -8.33333333e-02, -8.05555556e-02,\n",
       "       -7.77777778e-02, -7.50000000e-02, -7.22222222e-02, -6.94444444e-02,\n",
       "       -6.66666667e-02, -6.38888889e-02, -6.11111111e-02, -5.83333333e-02,\n",
       "       -5.55555556e-02, -5.27777778e-02, -5.00000000e-02, -4.72222222e-02,\n",
       "       -4.44444444e-02, -4.16666667e-02, -3.88888889e-02, -3.61111111e-02,\n",
       "       -3.33333333e-02, -3.05555556e-02, -2.77777778e-02, -2.50000000e-02,\n",
       "       -2.22222222e-02, -1.94444444e-02, -1.66666667e-02, -1.38888889e-02,\n",
       "       -1.11111111e-02, -8.33333333e-03, -5.55555556e-03, -2.77777778e-03,\n",
       "        2.77555756e-17,  2.77777778e-03,  5.55555556e-03,  8.33333333e-03,\n",
       "        1.11111111e-02,  1.38888889e-02,  1.66666667e-02,  1.94444444e-02,\n",
       "        2.22222222e-02,  2.50000000e-02,  2.77777778e-02,  3.05555556e-02,\n",
       "        3.33333333e-02,  3.61111111e-02,  3.88888889e-02,  4.16666667e-02,\n",
       "        4.44444444e-02,  4.72222222e-02,  5.00000000e-02,  5.27777778e-02,\n",
       "        5.55555556e-02,  5.83333333e-02,  6.11111111e-02,  6.38888889e-02,\n",
       "        6.66666667e-02,  6.94444444e-02,  7.22222222e-02,  7.50000000e-02,\n",
       "        7.77777778e-02,  8.05555556e-02,  8.33333333e-02,  8.61111111e-02,\n",
       "        8.88888889e-02,  9.16666667e-02,  9.44444444e-02,  9.72222222e-02,\n",
       "        1.00000000e-01,  1.02777778e-01,  1.05555556e-01,  1.08333333e-01,\n",
       "        1.11111111e-01,  1.13888889e-01,  1.16666667e-01,  1.19444444e-01,\n",
       "        1.22222222e-01,  1.25000000e-01,  1.27777778e-01,  1.30555556e-01,\n",
       "        1.33333333e-01,  1.36111111e-01,  1.38888889e-01,  1.41666667e-01,\n",
       "        1.44444444e-01,  1.47222222e-01,  1.50000000e-01,  1.52777778e-01,\n",
       "        1.55555556e-01,  1.58333333e-01,  1.61111111e-01,  1.63888889e-01,\n",
       "        1.66666667e-01,  1.69444444e-01,  1.72222222e-01,  1.75000000e-01,\n",
       "        1.77777778e-01,  1.80555556e-01,  1.83333333e-01,  1.86111111e-01,\n",
       "        1.88888889e-01,  1.91666667e-01,  1.94444444e-01,  1.97222222e-01,\n",
       "        2.00000000e-01,  2.02777778e-01,  2.05555556e-01,  2.08333333e-01,\n",
       "        2.11111111e-01,  2.13888889e-01,  2.16666667e-01,  2.19444444e-01,\n",
       "        2.22222222e-01,  2.25000000e-01,  2.27777778e-01,  2.30555556e-01,\n",
       "        2.33333333e-01,  2.36111111e-01,  2.38888889e-01,  2.41666667e-01,\n",
       "        2.44444444e-01,  2.47222222e-01,  2.50000000e-01,  2.52777778e-01,\n",
       "        2.55555556e-01,  2.58333333e-01,  2.61111111e-01,  2.63888889e-01,\n",
       "        2.66666667e-01,  2.69444444e-01,  2.72222222e-01,  2.75000000e-01,\n",
       "        2.77777778e-01,  2.80555556e-01,  2.83333333e-01,  2.86111111e-01,\n",
       "        2.88888889e-01,  2.91666667e-01,  2.94444444e-01,  2.97222222e-01,\n",
       "        3.00000000e-01,  3.02777778e-01,  3.05555556e-01,  3.08333333e-01,\n",
       "        3.11111111e-01,  3.13888889e-01,  3.16666667e-01,  3.19444444e-01,\n",
       "        3.22222222e-01,  3.25000000e-01,  3.27777778e-01,  3.30555556e-01,\n",
       "        3.33333333e-01,  3.36111111e-01,  3.38888889e-01,  3.41666667e-01,\n",
       "        3.44444444e-01,  3.47222222e-01,  3.50000000e-01,  3.52777778e-01,\n",
       "        3.55555556e-01,  3.58333333e-01,  3.61111111e-01,  3.63888889e-01,\n",
       "        3.66666667e-01,  3.69444444e-01,  3.72222222e-01,  3.75000000e-01,\n",
       "        3.77777778e-01,  3.80555556e-01,  3.83333333e-01,  3.86111111e-01,\n",
       "        3.88888889e-01,  3.91666667e-01,  3.94444444e-01,  3.97222222e-01]), templates=array([[103.12192461, 100.76565791,  97.63820563, ...,  85.92293195,\n",
       "         89.91111361,  93.75452033],\n",
       "       [ 98.74511643,  96.05094522,  93.21098765, ...,  90.26415514,\n",
       "         94.20149946,  97.37475866],\n",
       "       [102.02534365, 105.17471174, 106.97414956, ...,  74.53096565,\n",
       "         76.53970884,  79.67621166],\n",
       "       ...,\n",
       "       [102.90135596, 101.95117712, 100.15646849, ...,  82.23641763,\n",
       "         86.52092397,  91.0400824 ],\n",
       "       [104.61810545, 102.1506823 ,  98.76731497, ...,  87.42367669,\n",
       "         91.50906326,  95.49441245],\n",
       "       [ 89.63466374,  86.387535  ,  83.63451888, ...,  99.73936871,\n",
       "        101.30892363, 101.40791749]]), heart_rate_ts=array([], dtype=float64), heart_rate=array([], dtype=float64))"
      ]
     },
     "execution_count": 170,
     "metadata": {},
     "output_type": "execute_result"
    }
   ],
   "source": [
    "out"
   ]
  },
  {
   "cell_type": "code",
   "execution_count": 171,
   "metadata": {},
   "outputs": [
    {
     "ename": "NameError",
     "evalue": "name 'rpeaks2' is not defined",
     "output_type": "error",
     "traceback": [
      "\u001b[1;31m---------------------------------------------------------------------------\u001b[0m",
      "\u001b[1;31mNameError\u001b[0m                                 Traceback (most recent call last)",
      "\u001b[1;32m<ipython-input-171-5350b772bc83>\u001b[0m in \u001b[0;36m<module>\u001b[1;34m\u001b[0m\n\u001b[1;32m----> 1\u001b[1;33m \u001b[0mecg\u001b[0m\u001b[1;33m.\u001b[0m\u001b[0mcompare_segmentation\u001b[0m\u001b[1;33m(\u001b[0m\u001b[0mreference\u001b[0m\u001b[1;33m=\u001b[0m\u001b[0mrpeaks\u001b[0m\u001b[1;33m,\u001b[0m \u001b[0mtest\u001b[0m\u001b[1;33m=\u001b[0m\u001b[0mrpeaks2\u001b[0m\u001b[1;33m,\u001b[0m \u001b[0msampling_rate\u001b[0m\u001b[1;33m=\u001b[0m\u001b[1;36m361.0\u001b[0m\u001b[1;33m,\u001b[0m \u001b[0moffset\u001b[0m\u001b[1;33m=\u001b[0m\u001b[1;36m0\u001b[0m\u001b[1;33m,\u001b[0m \u001b[0mminRR\u001b[0m\u001b[1;33m=\u001b[0m\u001b[1;32mNone\u001b[0m\u001b[1;33m,\u001b[0m \u001b[0mtol\u001b[0m\u001b[1;33m=\u001b[0m\u001b[1;36m0.05\u001b[0m\u001b[1;33m)\u001b[0m\u001b[1;33m\u001b[0m\u001b[1;33m\u001b[0m\u001b[0m\n\u001b[0m",
      "\u001b[1;31mNameError\u001b[0m: name 'rpeaks2' is not defined"
     ]
    }
   ],
   "source": [
    "ecg.compare_segmentation(reference=rpeaks, test=rpeaks2, sampling_rate=361.0, offset=0, minRR=None, tol=0.05)"
   ]
  }
 ],
 "metadata": {
  "kernelspec": {
   "display_name": "Python 3",
   "language": "python",
   "name": "python3"
  },
  "language_info": {
   "codemirror_mode": {
    "name": "ipython",
    "version": 3
   },
   "file_extension": ".py",
   "mimetype": "text/x-python",
   "name": "python",
   "nbconvert_exporter": "python",
   "pygments_lexer": "ipython3",
   "version": "3.7.1"
  }
 },
 "nbformat": 4,
 "nbformat_minor": 2
}
